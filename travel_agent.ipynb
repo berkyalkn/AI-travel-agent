{
 "cells": [
  {
   "cell_type": "code",
   "execution_count": 77,
   "id": "b945efb4",
   "metadata": {},
   "outputs": [],
   "source": [
    "import os\n",
    "import operator\n",
    "from dotenv import load_dotenv\n",
    "from typing import Annotated, List, Optional\n",
    "from typing_extensions import TypedDict\n",
    "from IPython.display import Image\n",
    "\n",
    "from pydantic import BaseModel, Field\n",
    "from langchain_groq import ChatGroq\n",
    "from langchain_core.messages import SystemMessage\n",
    "from langgraph.graph import StateGraph, START, END\n",
    "from langchain_core.tools import tool\n",
    "\n",
    "\n",
    "load_dotenv()\n",
    "groq_api_key = os.getenv(\"GROQ_API_KEY\")\n",
    "llm = ChatGroq(model=\"llama3-70b-8192\", api_key = groq_api_key)\n"
   ]
  },
  {
   "cell_type": "code",
   "execution_count": 78,
   "id": "4fa3edfe",
   "metadata": {},
   "outputs": [],
   "source": [
    "class TripRequest(BaseModel) :\n",
    "    \"\"\"Schema for user's travel requests.\"\"\"\n",
    "    destination : str = Field(description= \"The city or country for the trip.\")\n",
    "    days : int = Field(description= \"The total number of days for the trip.\")\n",
    "    person : int = Field(description= \"The total number of person who participate the trip\")\n",
    "    budget : Optional[float] = Field(description= \"The estimated budget for the trip\") \n",
    "    interests : Optional[List[str]] = Field(description= \"A list of interests for the trip, e.g., []'art', 'history', 'food'].\" )\n",
    "    "
   ]
  },
  {
   "cell_type": "code",
   "execution_count": 86,
   "id": "92757776",
   "metadata": {},
   "outputs": [],
   "source": [
    "class FlightInfo(BaseModel) :\n",
    "    \"\"\"Schema for flight information\"\"\"\n",
    "    airline : str = Field(description= \"The name of the airline\")\n",
    "    price : float = Field(description= \"The price of the round-trip flight\")\n",
    "    origin : str = Field(description= \"The departure city\")\n",
    "    destination : str = Field(description= \"The arrival city\")\n",
    "\n",
    "\n",
    "class HotelInfo(BaseModel):\n",
    "    \"\"\"Schema for hotel information.\"\"\"\n",
    "    hotel_name: str = Field(description=\"The name of the hotel.\")\n",
    "    price_per_night: float = Field(description=\"The price per night.\")\n",
    "    total_price: float = Field(description=\"The total price for the entire stay.\")\n",
    "    rating: float = Field(description=\"The hotel's rating out of 5.\")"
   ]
  },
  {
   "cell_type": "code",
   "execution_count": null,
   "id": "7fde20db",
   "metadata": {},
   "outputs": [],
   "source": [
    "@tool\n",
    "def flight_search_tool(destination: str, person: int) -> FlightInfo:\n",
    "    \"\"\"\n",
    "    Searches for flights for a given destination and number of persons.\n",
    "    This is a mock tool and returns dummy data.\n",
    "    \"\"\"\n",
    "    print(f\"--- Calling Flight Search Tool for {destination} for {person} people ---\")\n",
    "    \n",
    "    base_price_per_person = 750.0\n",
    "    total_price = base_price_per_person * person\n",
    "    \n",
    "    return FlightInfo(\n",
    "        airline=\"Turkish Airlines\",\n",
    "        price=total_price,\n",
    "        origin=\"Antalya\",\n",
    "        destination=destination\n",
    "    )\n",
    "\n",
    "\n",
    "@tool\n",
    "def hotel_search_tool(destination: str, days: int, person: int) -> HotelInfo:\n",
    "    \"\"\"\n",
    "    Searches for hotels for a given destination, duration, and number of people.\n",
    "    This is a mock tool and returns dummy data.\n",
    "    \"\"\"\n",
    "    print(f\"--- Calling Hotel Search Tool for {destination} for {person} people ---\")\n",
    "    price_per_night = 150.0 * (person / 2) \n",
    "    total_price = price_per_night * (days - 1) \n",
    "    return HotelInfo(hotel_name=\"Grand Royale Hotel\", price_per_night=price_per_night, total_price=total_price, rating=4.5)"
   ]
  },
  {
   "cell_type": "code",
   "execution_count": 88,
   "id": "caa8e50c",
   "metadata": {},
   "outputs": [],
   "source": [
    "class TripState(TypedDict):\n",
    "    user_request: str\n",
    "    trip_plan: Optional[TripRequest]\n",
    "    flight_info: Optional[FlightInfo]\n",
    "    hotel_info: Optional[HotelInfo]"
   ]
  },
  {
   "cell_type": "code",
   "execution_count": 82,
   "id": "a994a06f",
   "metadata": {},
   "outputs": [],
   "source": [
    "def planner_agent(state: TripState) -> dict:\n",
    "    \"\"\"\n",
    "    Takes the user request and converts it into a structured TripRequest object.\n",
    "    \"\"\"\n",
    "    print(\"--- Running Planner Agent ---\")\n",
    "    \n",
    "    structured_llm = llm.with_structured_output(TripRequest)\n",
    "    \n",
    "    prompt = f\"\"\"\n",
    "    Parse the following user request into a structured TripRequest object.\n",
    "    Identify the destination, number of days, budget, and key interests.\n",
    "\n",
    "    User Request: \"{state['user_request']}\"\n",
    "    \"\"\"\n",
    "    \n",
    "    plan = structured_llm.invoke(prompt)\n",
    "    print(f\"-> Structured Plan: {plan}\")\n",
    "    \n",
    "    return {\"trip_plan\": plan}"
   ]
  },
  {
   "cell_type": "code",
   "execution_count": 90,
   "id": "69183e94",
   "metadata": {},
   "outputs": [],
   "source": [
    "def flight_agent(state: TripState) -> dict:\n",
    "    \"\"\"\n",
    "    Takes the structured trip plan and uses the flight search tool to find flights.\n",
    "    \"\"\"\n",
    "    print(\"--- Running Flight Agent ---\")\n",
    "    trip_plan = state['trip_plan']\n",
    "    if not trip_plan:\n",
    "        return {}\n",
    "\n",
    "\n",
    "    flight_data = flight_search_tool.invoke({\n",
    "        \"destination\": trip_plan.destination,\n",
    "        \"person\": trip_plan.person\n",
    "    })\n",
    "    print(f\"-> Flight Info: {flight_data}\")\n",
    "\n",
    "    return {\"flight_info\": flight_data}\n",
    "\n",
    "\n",
    "\n",
    "def hotel_agent(state: TripState) -> dict:\n",
    "    \"\"\"\n",
    "    Takes the structured trip plan and uses the hotel search tool to find hotels.\n",
    "    \"\"\"\n",
    "    print(\"--- Running Hotel Agent ---\")\n",
    "    trip_plan = state['trip_plan']\n",
    "    if not trip_plan: return {}\n",
    "    hotel_data = hotel_search_tool.invoke({\n",
    "        \"destination\": trip_plan.destination,\n",
    "        \"days\": trip_plan.days,\n",
    "        \"person\": trip_plan.person\n",
    "    })\n",
    "    print(f\"-> Hotel Info: {hotel_data}\")\n",
    "    return {\"hotel_info\": hotel_data}"
   ]
  },
  {
   "cell_type": "code",
   "execution_count": 91,
   "id": "9c46a468",
   "metadata": {},
   "outputs": [],
   "source": [
    "def aggregator_agent(state: TripState) -> dict:\n",
    "    \"\"\"\n",
    "    Aggregates the results from parallel agents.\n",
    "    \"\"\"\n",
    "    print(\"--- Running Aggregator Agent ---\")\n",
    "    print(\"-> Aggregated Flight Info:\", state.get('flight_info'))\n",
    "    print(\"-> Aggregated Hotel Info:\", state.get('hotel_info'))\n",
    "    return {}"
   ]
  },
  {
   "cell_type": "code",
   "execution_count": 92,
   "id": "4bf98589",
   "metadata": {},
   "outputs": [
    {
     "data": {
      "image/png": "[encoded data removed]",
      "text/plain": [
       "<IPython.core.display.Image object>"
      ]
     },
     "metadata": {},
     "output_type": "display_data"
    }
   ],
   "source": [
    "workflow = StateGraph(TripState)\n",
    "\n",
    "\n",
    "workflow.add_node(\"planner_agent\", planner_agent)\n",
    "workflow.add_node(\"flight_agent\", flight_agent)\n",
    "workflow.add_node(\"hotel_agent\", hotel_agent) \n",
    "workflow.add_node(\"aggregator_agent\", aggregator_agent) \n",
    "\n",
    "\n",
    "workflow.add_edge(START, \"planner_agent\")\n",
    "\n",
    "workflow.add_edge(\"planner_agent\", \"flight_agent\")\n",
    "workflow.add_edge(\"planner_agent\", \"hotel_agent\")\n",
    "\n",
    "workflow.add_edge([\"flight_agent\", \"hotel_agent\"], \"aggregator_agent\")\n",
    "\n",
    "workflow.add_edge(\"aggregator_agent\", END)\n",
    "\n",
    "\n",
    "app = workflow.compile()\n",
    "\n",
    "display(Image(app.get_graph().draw_mermaid_png()))"
   ]
  },
  {
   "cell_type": "code",
   "execution_count": 93,
   "id": "065eebb0",
   "metadata": {},
   "outputs": [
    {
     "name": "stdout",
     "output_type": "stream",
     "text": [
      "--- Running Planner Agent ---\n",
      "-> Structured Plan: destination='Rome' days=5 person=2 budget=1500.0 interests=['history', 'food']\n",
      "--- Running Flight Agent ---\n",
      "--- Calling Flight Search Tool for Rome for 2 people ---\n",
      "-> Flight Info: airline='Turkish Airlines' price=1500.0 origin='Antalya' destination='Rome'\n",
      "--- Running Hotel Agent ---\n",
      "--- Calling Hotel Search Tool for Rome for 2 people ---\n",
      "-> Hotel Info: hotel_name='Grand Royale Hotel' price_per_night=150.0 total_price=600.0 rating=4.5\n",
      "--- Running Aggregator Agent ---\n",
      "-> Aggregated Flight Info: airline='Turkish Airlines' price=1500.0 origin='Antalya' destination='Rome'\n",
      "-> Aggregated Hotel Info: hotel_name='Grand Royale Hotel' price_per_night=150.0 total_price=600.0 rating=4.5\n",
      "\n",
      "--- FINAL STATE ---\n",
      "{'user_request': \"I want to plan a 5-day trip to Rome with my girlfriend . I'm interested in history and food, and my budget is around 1500 euro.\", 'trip_plan': TripRequest(destination='Rome', days=5, person=2, budget=1500.0, interests=['history', 'food']), 'flight_info': FlightInfo(airline='Turkish Airlines', price=1500.0, origin='Antalya', destination='Rome'), 'hotel_info': HotelInfo(hotel_name='Grand Royale Hotel', price_per_night=150.0, total_price=600.0, rating=4.5)}\n"
     ]
    }
   ],
   "source": [
    "user_query = \"I want to plan a 5-day trip to Rome with my girlfriend . I'm interested in history and food, and my budget is around 1500 euro.\"\n",
    "initial_state = {\"user_request\": user_query}\n",
    "\n",
    "final_state = app.invoke(initial_state)\n",
    "\n",
    "print(\"\\n--- FINAL STATE ---\")\n",
    "print(final_state)"
   ]
  }
 ],
 "metadata": {
  "kernelspec": {
   "display_name": "Python 3",
   "language": "python",
   "name": "python3"
  },
  "language_info": {
   "codemirror_mode": {
    "name": "ipython",
    "version": 3
   },
   "file_extension": ".py",
   "mimetype": "text/x-python",
   "name": "python",
   "nbconvert_exporter": "python",
   "pygments_lexer": "ipython3",
   "version": "3.13.1"
  }
 },
 "nbformat": 4,
 "nbformat_minor": 5
}
